{
 "cells": [
  {
   "cell_type": "code",
   "execution_count": 9,
   "id": "8ab02a51",
   "metadata": {},
   "outputs": [
    {
     "data": {
      "text/plain": [
       "-3"
      ]
     },
     "execution_count": 9,
     "metadata": {},
     "output_type": "execute_result"
    }
   ],
   "source": [
    "ceil(-3.56) #aproximation floor"
   ]
  },
  {
   "cell_type": "code",
   "execution_count": 10,
   "id": "62bfa7bd",
   "metadata": {},
   "outputs": [
    {
     "data": {
      "text/plain": [
       "-4"
      ]
     },
     "execution_count": 10,
     "metadata": {},
     "output_type": "execute_result"
    }
   ],
   "source": [
    "floor( -3.56) #aproximacion ceiling"
   ]
  },
  {
   "cell_type": "code",
   "execution_count": 14,
   "id": "48d533da",
   "metadata": {},
   "outputs": [
    {
     "data": {
      "text/plain": [
       "(2*log(10), 2, log(10))"
      ]
     },
     "execution_count": 14,
     "metadata": {},
     "output_type": "execute_result"
    }
   ],
   "source": [
    "log(100,e),log(100,10),log(100,e)/log(100,10)"
   ]
  },
  {
   "cell_type": "code",
   "execution_count": 15,
   "id": "023238ec",
   "metadata": {},
   "outputs": [
    {
     "data": {
      "text/plain": [
       "6"
      ]
     },
     "execution_count": 15,
     "metadata": {},
     "output_type": "execute_result"
    }
   ],
   "source": [
    "log(64,2)"
   ]
  },
  {
   "cell_type": "code",
   "execution_count": 25,
   "id": "78efb38f",
   "metadata": {},
   "outputs": [
    {
     "data": {
      "text/plain": [
       "-1.00000000000000 + 1.22464679914735e-16*I"
      ]
     },
     "execution_count": 25,
     "metadata": {},
     "output_type": "execute_result"
    }
   ],
   "source": [
    "e^(I*pi.n())"
   ]
  },
  {
   "cell_type": "code",
   "execution_count": 40,
   "id": "272d7bbb",
   "metadata": {
    "scrolled": true
   },
   "outputs": [
    {
     "data": {
      "text/latex": [
       "$\\displaystyle 1$"
      ],
      "text/plain": [
       "1"
      ]
     },
     "execution_count": 40,
     "metadata": {},
     "output_type": "execute_result"
    }
   ],
   "source": [
    "sin(pi/2)"
   ]
  },
  {
   "cell_type": "code",
   "execution_count": 42,
   "id": "559d71bc",
   "metadata": {},
   "outputs": [
    {
     "data": {
      "text/plain": [
       "I*csc(1/16*pi)"
      ]
     },
     "execution_count": 42,
     "metadata": {},
     "output_type": "execute_result"
    }
   ],
   "source": [
    "(cot(π/4))*i*(csc (π/16))"
   ]
  }
 ],
 "metadata": {
  "kernelspec": {
   "display_name": "SageMath 9.5",
   "language": "sage",
   "name": "sagemath"
  },
  "language_info": {
   "codemirror_mode": {
    "name": "ipython",
    "version": 3
   },
   "file_extension": ".py",
   "mimetype": "text/x-python",
   "name": "python",
   "nbconvert_exporter": "python",
   "pygments_lexer": "ipython3",
   "version": "3.10.12"
  }
 },
 "nbformat": 4,
 "nbformat_minor": 5
}
