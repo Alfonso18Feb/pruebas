{
 "cells": [
  {
   "cell_type": "markdown",
   "id": "f2a5f80a",
   "metadata": {},
   "source": [
    ">> # Tarea 1 de Sage"
   ]
  },
  {
   "cell_type": "markdown",
   "id": "8cc5231c",
   "metadata": {},
   "source": [
    "# Estos ejercicios se pueden ver en [mi repositorio](https://github.com/Alfonso18Feb/pruebas)"
   ]
  },
  {
   "cell_type": "markdown",
   "id": "11f9f0af",
   "metadata": {},
   "source": [
    "## Los ejercicios resueltos de la tarea 1"
   ]
  },
  {
   "cell_type": "markdown",
   "id": "dd708983",
   "metadata": {},
   "source": [
    "### **1.** *Resuelve esta division como numero racional y obtén después su aproximación decimal, respectivamente.* $\\dfrac{28}{2^5}$"
   ]
  },
  {
   "cell_type": "code",
   "execution_count": 18,
   "id": "79aa3f84",
   "metadata": {},
   "outputs": [
    {
     "data": {
      "text/plain": [
       "7/8"
      ]
     },
     "execution_count": 18,
     "metadata": {},
     "output_type": "execute_result"
    }
   ],
   "source": [
    "28/(2^5)\n",
    "#racional"
   ]
  },
  {
   "cell_type": "code",
   "execution_count": 12,
   "id": "f0b99869-eea0-4ef0-abb6-cadceb69501a",
   "metadata": {},
   "outputs": [
    {
     "data": {
      "text/plain": [
       "0.875000000000000"
      ]
     },
     "execution_count": 12,
     "metadata": {},
     "output_type": "execute_result"
    }
   ],
   "source": [
    "28/(2^5).numerical_approx()\n",
    "#aproximación decimal"
   ]
  },
  {
   "cell_type": "markdown",
   "id": "c5f71d2c",
   "metadata": {},
   "source": [
    "### **2-** *aproxima:* $\\sqrt 2$ "
   ]
  },
  {
   "cell_type": "code",
   "execution_count": 83,
   "id": "2c9a090d",
   "metadata": {},
   "outputs": [
    {
     "data": {
      "text/plain": [
       "1.41421356237310"
      ]
     },
     "execution_count": 83,
     "metadata": {},
     "output_type": "execute_result"
    }
   ],
   "source": [
    "sqrt(2).numerical_approx()"
   ]
  },
  {
   "cell_type": "markdown",
   "id": "690ed3d9",
   "metadata": {},
   "source": [
    "### **3-** *Que nos da* $\\sqrt{-9}$"
   ]
  },
  {
   "cell_type": "code",
   "execution_count": 19,
   "id": "ecfd1ce9",
   "metadata": {},
   "outputs": [
    {
     "data": {
      "text/html": [
       "<html><script type=\"math/tex; mode=display\">\\newcommand{\\Bold}[1]{\\mathbf{#1}}3 i</script></html>"
      ],
      "text/latex": [
       "$$\\newcommand{\\Bold}[1]{\\mathbf{#1}}3 i$$"
      ],
      "text/plain": [
       "3*I"
      ]
     },
     "metadata": {},
     "output_type": "display_data"
    }
   ],
   "source": [
    "sqrt(-9).show() #te lo enseña de la forma Latex"
   ]
  },
  {
   "cell_type": "markdown",
   "id": "f20de534",
   "metadata": {},
   "source": [
    "### **4-** *Cual es el resultado de:* $\\log_{3}(2153693963075557766310747)$"
   ]
  },
  {
   "cell_type": "code",
   "execution_count": 80,
   "id": "12738fa9",
   "metadata": {},
   "outputs": [
    {
     "data": {
      "text/plain": [
       "51"
      ]
     },
     "execution_count": 80,
     "metadata": {},
     "output_type": "execute_result"
    }
   ],
   "source": [
    "log(2153693963075557766310747,3)"
   ]
  },
  {
   "cell_type": "markdown",
   "id": "1d524c88",
   "metadata": {},
   "source": [
    "### **5-** *Calcula las 50 primeras cifras decimales del número e*"
   ]
  },
  {
   "cell_type": "code",
   "execution_count": 20,
   "id": "061ecf2d",
   "metadata": {},
   "outputs": [
    {
     "data": {
      "text/plain": [
       "2.7182818284590452353602874713526624977572470937000"
      ]
     },
     "execution_count": 20,
     "metadata": {},
     "output_type": "execute_result"
    }
   ],
   "source": [
    "e.n(digits=50)"
   ]
  },
  {
   "cell_type": "markdown",
   "id": "993f9d9c",
   "metadata": {},
   "source": [
    "### **6-** *Calcula las 80 primeras cifras decimales del número π*\n",
    "\n"
   ]
  },
  {
   "cell_type": "code",
   "execution_count": 21,
   "id": "d97c975f",
   "metadata": {},
   "outputs": [
    {
     "data": {
      "text/plain": [
       "3.1415926535897932384626433832795028841971693993751058209749445923078164062862090"
      ]
     },
     "execution_count": 21,
     "metadata": {},
     "output_type": "execute_result"
    }
   ],
   "source": [
    "pi.n(digits=80)"
   ]
  },
  {
   "cell_type": "markdown",
   "id": "5477a228",
   "metadata": {},
   "source": [
    "### **7-** *Obtén el cociente y el resto de:* $ \\frac{956}{98}$\n",
    "\n"
   ]
  },
  {
   "cell_type": "code",
   "execution_count": 22,
   "id": "086ea33d",
   "metadata": {},
   "outputs": [
    {
     "data": {
      "text/plain": [
       "(9, 74)"
      ]
     },
     "execution_count": 22,
     "metadata": {},
     "output_type": "execute_result"
    }
   ],
   "source": [
    "956//98,956%98 #te da el cociente y el resto respectivamente"
   ]
  },
  {
   "cell_type": "markdown",
   "id": "fb03ac82",
   "metadata": {},
   "source": [
    "### **8-** *Comprueba que el cociente y el resto obtenidos en el apartado anterior son correctos con la prueba de Euclides*"
   ]
  },
  {
   "cell_type": "code",
   "execution_count": 23,
   "id": "1517261d",
   "metadata": {},
   "outputs": [
    {
     "data": {
      "text/plain": [
       "(9, 74)"
      ]
     },
     "execution_count": 23,
     "metadata": {},
     "output_type": "execute_result"
    }
   ],
   "source": [
    "divmod(956,98) #se compruve que esta correcto"
   ]
  },
  {
   "cell_type": "markdown",
   "id": "3e952f53",
   "metadata": {},
   "source": [
    "### **9-** *Determina si:* $\\frac{234878}{3}$\n",
    "\n"
   ]
  },
  {
   "cell_type": "code",
   "execution_count": 25,
   "id": "663e9e45",
   "metadata": {},
   "outputs": [
    {
     "data": {
      "text/html": [
       "<html><script type=\"math/tex; mode=display\">\\newcommand{\\Bold}[1]{\\mathbf{#1}}\\frac{234878}{3}</script></html>"
      ],
      "text/latex": [
       "$$\\newcommand{\\Bold}[1]{\\mathbf{#1}}\\frac{234878}{3}$$"
      ],
      "text/plain": [
       "234878/3"
      ]
     },
     "metadata": {},
     "output_type": "display_data"
    },
    {
     "data": {
      "text/plain": [
       "False"
      ]
     },
     "execution_count": 25,
     "metadata": {},
     "output_type": "execute_result"
    }
   ],
   "source": [
    "b=(234878/3)\n",
    "show(b)#te lo enseña con codigo Latex\n",
    "234878%3==0 #mira si resto es cero para determinar si 234878/3"
   ]
  },
  {
   "cell_type": "markdown",
   "id": "b15c2f05",
   "metadata": {},
   "source": [
    "### **10-** *Calcula la lista de divisores de cada uno de los siguientes números enteros:* ***134, 491, 422 y 1002***"
   ]
  },
  {
   "cell_type": "code",
   "execution_count": 73,
   "id": "064c619a",
   "metadata": {},
   "outputs": [
    {
     "data": {
      "text/plain": [
       "([1, 2, 67, 134],\n",
       " [1, 491],\n",
       " [1, 2, 211, 422],\n",
       " [1, 2, 3, 6, 167, 334, 501, 1002])"
      ]
     },
     "execution_count": 73,
     "metadata": {},
     "output_type": "execute_result"
    }
   ],
   "source": [
    "divisors(134), divisors(491), divisors(422), divisors(1002)\n",
    "\n",
    "#aparece una list de listas de sus divisores respectivamente\n"
   ]
  },
  {
   "cell_type": "markdown",
   "id": "3d467780",
   "metadata": {},
   "source": [
    "### **11-** *De los enteros del ejercicio anterior, ¿cuáles son números primos?*\n",
    "\n"
   ]
  },
  {
   "cell_type": "code",
   "execution_count": 72,
   "id": "ceed35bd",
   "metadata": {},
   "outputs": [
    {
     "data": {
      "text/plain": [
       "(False, True, False, False)"
      ]
     },
     "execution_count": 72,
     "metadata": {},
     "output_type": "execute_result"
    }
   ],
   "source": [
    "134.is_prime(),491.is_prime(), 422.is_prime(), 1002.is_prime()\n",
    "\n",
    "#te lo devuelve el resultado en boolena para cada una\n"
   ]
  },
  {
   "cell_type": "markdown",
   "id": "ba97f502",
   "metadata": {},
   "source": [
    "### **12-**  *Calcula el máximo común divisor (mcd) y el mínimo común múltiple (mcm) para los pares de números enteros (2,5), (4,10) y (18, 51).*\n",
    "\n"
   ]
  },
  {
   "cell_type": "code",
   "execution_count": 71,
   "id": "faa663fd",
   "metadata": {},
   "outputs": [
    {
     "data": {
      "text/plain": [
       "(1, 2, 3)"
      ]
     },
     "execution_count": 71,
     "metadata": {},
     "output_type": "execute_result"
    }
   ],
   "source": [
    "gcd(2,5), gcd(4,10), gcd(18, 51)\n",
    "\n",
    "#El mcd de cada uno respectivamente "
   ]
  },
  {
   "cell_type": "code",
   "execution_count": 9,
   "id": "ddd86892",
   "metadata": {},
   "outputs": [
    {
     "data": {
      "text/plain": [
       "(10, 20, 306)"
      ]
     },
     "execution_count": 9,
     "metadata": {},
     "output_type": "execute_result"
    }
   ],
   "source": [
    "lcm(2,5), lcm(4,10), lcm(18, 51)\n",
    "\n",
    "#El mcm de cada uno respectivamente"
   ]
  }
 ],
 "metadata": {
  "kernelspec": {
   "display_name": "SageMath 9.5",
   "language": "sage",
   "name": "sagemath"
  },
  "language_info": {
   "codemirror_mode": {
    "name": "ipython",
    "version": 3
   },
   "file_extension": ".py",
   "mimetype": "text/x-python",
   "name": "python",
   "nbconvert_exporter": "python",
   "pygments_lexer": "ipython3",
   "version": "3.10.12"
  }
 },
 "nbformat": 4,
 "nbformat_minor": 5
}
