{
 "cells": [
  {
   "cell_type": "markdown",
   "id": "c6836e4c",
   "metadata": {},
   "source": [
    ">> # Tarea 2 de Sage"
   ]
  },
  {
   "cell_type": "markdown",
   "id": "42a06d8d",
   "metadata": {},
   "source": [
    "# Estos ejercicios se pueden ver en [mi repositorio](https://github.com/Alfonso18Feb/pruebas)"
   ]
  },
  {
   "cell_type": "markdown",
   "id": "c3584434",
   "metadata": {},
   "source": [
    "## Los ejercicios resueltos de la tarea 2"
   ]
  },
  {
   "cell_type": "markdown",
   "id": "920550c7",
   "metadata": {},
   "source": [
    "### **1-** *Calcula el floor y el ceiling de -3.56*\n",
    "\n"
   ]
  },
  {
   "cell_type": "code",
   "execution_count": 25,
   "id": "8ab02a51",
   "metadata": {},
   "outputs": [
    {
     "data": {
      "text/plain": [
       "-3"
      ]
     },
     "execution_count": 25,
     "metadata": {},
     "output_type": "execute_result"
    }
   ],
   "source": [
    "ceil(-3.56) #aproximation floor"
   ]
  },
  {
   "cell_type": "code",
   "execution_count": 26,
   "id": "62bfa7bd",
   "metadata": {
    "scrolled": true
   },
   "outputs": [
    {
     "data": {
      "text/plain": [
       "-4"
      ]
     },
     "execution_count": 26,
     "metadata": {},
     "output_type": "execute_result"
    }
   ],
   "source": [
    "floor( -3.56) #aproximacion ceiling"
   ]
  },
  {
   "cell_type": "markdown",
   "id": "25c49d5e",
   "metadata": {},
   "source": [
    "### **2-** *Calcula el $\\log_{e}(100)$, calcula el $\\log_{10}(100)$, después calcula el cociente $\\frac{\\log_{e}(100)}{\\log_{10}(100)}$ . ¿Cual deberia ser el resultado?*"
   ]
  },
  {
   "cell_type": "code",
   "execution_count": 21,
   "id": "48d533da",
   "metadata": {},
   "outputs": [
    {
     "data": {
      "text/plain": [
       "(2*log(10), 2, log(10))"
      ]
     },
     "execution_count": 21,
     "metadata": {},
     "output_type": "execute_result"
    }
   ],
   "source": [
    "(log(100,e),#resultado en primero en la lista\n",
    "\n",
    "log(100,10),#resultado en segnunda en la lista\n",
    "\n",
    "log(100,e)/log(100,10))#resultado en tercera en la lista"
   ]
  },
  {
   "cell_type": "markdown",
   "id": "c58b475d",
   "metadata": {},
   "source": [
    "### **3-** *Calcula:* $\\log_{2}(64)$\n",
    "\n"
   ]
  },
  {
   "cell_type": "code",
   "execution_count": 2,
   "id": "023238ec",
   "metadata": {},
   "outputs": [
    {
     "data": {
      "text/plain": [
       "6"
      ]
     },
     "execution_count": 2,
     "metadata": {},
     "output_type": "execute_result"
    }
   ],
   "source": [
    "log(64,2)"
   ]
  },
  {
   "cell_type": "markdown",
   "id": "d5e6d189",
   "metadata": {},
   "source": [
    "### **4-** ***Compara $e^{iπ}$ con una aproximación numérica, usando pi.n().***"
   ]
  },
  {
   "cell_type": "code",
   "execution_count": 27,
   "id": "e785ceda",
   "metadata": {},
   "outputs": [
    {
     "name": "stdout",
     "output_type": "stream",
     "text": [
      "-1\n",
      "-1.00000000000000 + 1.22464679914735e-16*I\n"
     ]
    }
   ],
   "source": [
    "print(e^(i*pi))\n",
    "#Se ve la differencia entre la aproximacion de pi y no\n",
    "print(e^(I*pi.n()))"
   ]
  },
  {
   "cell_type": "markdown",
   "id": "aa456f77",
   "metadata": {},
   "source": [
    "### **4-** ***Calcula:*** $sin (π/2)$,\n",
    "\n"
   ]
  },
  {
   "cell_type": "code",
   "execution_count": 28,
   "id": "272d7bbb",
   "metadata": {},
   "outputs": [
    {
     "data": {
      "text/plain": [
       "1"
      ]
     },
     "execution_count": 28,
     "metadata": {},
     "output_type": "execute_result"
    }
   ],
   "source": [
    "sin(pi/2)"
   ]
  },
  {
   "cell_type": "markdown",
   "id": "3dba408b",
   "metadata": {},
   "source": [
    "### **5-** ***Calcula:*** $cot (π/4) i csc (π/16)$"
   ]
  },
  {
   "cell_type": "code",
   "execution_count": 35,
   "id": "559d71bc",
   "metadata": {},
   "outputs": [
    {
     "data": {
      "text/html": [
       "<html><script type=\"math/tex; mode=display\">\\newcommand{\\Bold}[1]{\\mathbf{#1}}i \\, \\csc\\left(\\frac{1}{16} \\, \\pi\\right)</script></html>"
      ],
      "text/latex": [
       "$$\\newcommand{\\Bold}[1]{\\mathbf{#1}}i \\, \\csc\\left(\\frac{1}{16} \\, \\pi\\right)$$"
      ],
      "text/plain": [
       "I*csc(1/16*pi)"
      ]
     },
     "metadata": {},
     "output_type": "display_data"
    }
   ],
   "source": [
    "a=(cot(π/4))*i*(csc (π/16))\n",
    "a.show()"
   ]
  }
 ],
 "metadata": {
  "kernelspec": {
   "display_name": "SageMath 9.5",
   "language": "sage",
   "name": "sagemath"
  },
  "language_info": {
   "codemirror_mode": {
    "name": "ipython",
    "version": 3
   },
   "file_extension": ".py",
   "mimetype": "text/x-python",
   "name": "python",
   "nbconvert_exporter": "python",
   "pygments_lexer": "ipython3",
   "version": "3.10.12"
  }
 },
 "nbformat": 4,
 "nbformat_minor": 5
}
