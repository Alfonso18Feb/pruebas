{
 "cells": [
  {
   "cell_type": "code",
   "execution_count": 11,
   "id": "227a27a5",
   "metadata": {},
   "outputs": [
    {
     "data": {
      "text/plain": [
       "7/8"
      ]
     },
     "execution_count": 11,
     "metadata": {},
     "output_type": "execute_result"
    }
   ],
   "source": [
    "28/(2^5)"
   ]
  },
  {
   "cell_type": "code",
   "execution_count": 39,
   "id": "6b0d34b1",
   "metadata": {},
   "outputs": [
    {
     "data": {
      "text/plain": [
       "0.875000000000000"
      ]
     },
     "execution_count": 39,
     "metadata": {},
     "output_type": "execute_result"
    }
   ],
   "source": [
    "28/(2^5).numerical_approx()"
   ]
  },
  {
   "cell_type": "code",
   "execution_count": 40,
   "id": "afab7ea7",
   "metadata": {},
   "outputs": [
    {
     "data": {
      "text/plain": [
       "1.41421356237310"
      ]
     },
     "execution_count": 40,
     "metadata": {},
     "output_type": "execute_result"
    }
   ],
   "source": [
    "sqrt(2).numerical_approx()"
   ]
  },
  {
   "cell_type": "code",
   "execution_count": 16,
   "id": "63b7b85b",
   "metadata": {},
   "outputs": [
    {
     "data": {
      "text/plain": [
       "3*I"
      ]
     },
     "execution_count": 16,
     "metadata": {},
     "output_type": "execute_result"
    }
   ],
   "source": [
    "sqrt(-9)"
   ]
  },
  {
   "cell_type": "code",
   "execution_count": 17,
   "id": "8ebaf903",
   "metadata": {},
   "outputs": [
    {
     "data": {
      "text/plain": [
       "51"
      ]
     },
     "execution_count": 17,
     "metadata": {},
     "output_type": "execute_result"
    }
   ],
   "source": [
    "log(2153693963075557766310747,3)"
   ]
  },
  {
   "cell_type": "code",
   "execution_count": 33,
   "id": "25455cb3",
   "metadata": {
    "scrolled": true
   },
   "outputs": [
    {
     "data": {
      "text/plain": [
       "2.7182818284590452353602874713526624977572470937000"
      ]
     },
     "execution_count": 33,
     "metadata": {},
     "output_type": "execute_result"
    }
   ],
   "source": [
    "e.n(digits=50)"
   ]
  },
  {
   "cell_type": "code",
   "execution_count": 34,
   "id": "8b197ed6",
   "metadata": {},
   "outputs": [
    {
     "data": {
      "text/plain": [
       "3.1415926535897932384626433832795028841971693993751058209749445923078164062862090"
      ]
     },
     "execution_count": 34,
     "metadata": {},
     "output_type": "execute_result"
    }
   ],
   "source": [
    "pi.n(digits=80)"
   ]
  },
  {
   "cell_type": "code",
   "execution_count": 42,
   "id": "d60a6210",
   "metadata": {},
   "outputs": [
    {
     "data": {
      "text/plain": [
       "(478/49, 74)"
      ]
     },
     "execution_count": 42,
     "metadata": {},
     "output_type": "execute_result"
    }
   ],
   "source": [
    "956/98,956%98"
   ]
  },
  {
   "cell_type": "code",
   "execution_count": 45,
   "id": "e61e71db",
   "metadata": {},
   "outputs": [
    {
     "data": {
      "text/plain": [
       "(2/49, -13, 12/7)"
      ]
     },
     "execution_count": 45,
     "metadata": {},
     "output_type": "execute_result"
    }
   ],
   "source": [
    "xgcd(478/49, 74)"
   ]
  },
  {
   "cell_type": "code",
   "execution_count": 47,
   "id": "a46f2972",
   "metadata": {},
   "outputs": [
    {
     "data": {
      "text/plain": [
       "3/234878"
      ]
     },
     "execution_count": 47,
     "metadata": {},
     "output_type": "execute_result"
    }
   ],
   "source": [
    "3/234878"
   ]
  },
  {
   "cell_type": "code",
   "execution_count": 55,
   "id": "a62df110",
   "metadata": {},
   "outputs": [
    {
     "data": {
      "text/plain": [
       "([1, 2, 67, 134],\n",
       " [1, 491],\n",
       " [1, 2, 211, 422],\n",
       " [1, 2, 3, 6, 167, 334, 501, 1002])"
      ]
     },
     "execution_count": 55,
     "metadata": {},
     "output_type": "execute_result"
    }
   ],
   "source": [
    "divisors(134), divisors(491), divisors(422), divisors(1002)"
   ]
  },
  {
   "cell_type": "code",
   "execution_count": 57,
   "id": "32513f1e",
   "metadata": {},
   "outputs": [
    {
     "data": {
      "text/plain": [
       "(False, True, False, False)"
      ]
     },
     "execution_count": 57,
     "metadata": {},
     "output_type": "execute_result"
    }
   ],
   "source": [
    "134.is_prime(), 491.is_prime(), 422.is_prime(), 1002.is_prime()"
   ]
  },
  {
   "cell_type": "code",
   "execution_count": 60,
   "id": "82e47e4e",
   "metadata": {},
   "outputs": [
    {
     "data": {
      "text/plain": [
       "(1, 2, 3)"
      ]
     },
     "execution_count": 60,
     "metadata": {},
     "output_type": "execute_result"
    }
   ],
   "source": [
    "gcd(2,5), gcd(4,10), gcd(18, 51)"
   ]
  },
  {
   "cell_type": "code",
   "execution_count": 61,
   "id": "c359e95a",
   "metadata": {},
   "outputs": [
    {
     "data": {
      "text/plain": [
       "(10, 20, 306)"
      ]
     },
     "execution_count": 61,
     "metadata": {},
     "output_type": "execute_result"
    }
   ],
   "source": [
    "lcm(2,5), lcm(4,10), lcm(18, 51)"
   ]
  }
 ],
 "metadata": {
  "kernelspec": {
   "display_name": "SageMath 9.5",
   "language": "sage",
   "name": "sagemath"
  },
  "language_info": {
   "codemirror_mode": {
    "name": "ipython",
    "version": 3
   },
   "file_extension": ".py",
   "mimetype": "text/x-python",
   "name": "python",
   "nbconvert_exporter": "python",
   "pygments_lexer": "ipython3",
   "version": "3.10.12"
  }
 },
 "nbformat": 4,
 "nbformat_minor": 5
}
